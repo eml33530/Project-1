{
 "cells": [
  {
   "cell_type": "markdown",
   "id": "eleven-pastor",
   "metadata": {},
   "source": [
    "# Project 1 - Crypto Currency Dashboard"
   ]
  },
  {
   "cell_type": "code",
   "execution_count": null,
   "id": "different-glance",
   "metadata": {},
   "outputs": [],
   "source": [
    "# Imports\n",
    "\n",
    "import panel as pn\n",
    "pn.extension('plotly')\n",
    "import plotly.express as px\n",
    "import pandas as pd\n",
    "import hvplot.pandas\n",
    "import matplotlib.pyplot as plt\n",
    "import numpy as np\n",
    "import os\n",
    "from pathlib import Path\n",
    "import seaborn as sns\n",
    "import numpy_financial as npf\n",
    "import datetime as dt\n",
    "%matplotlib inline\n",
    "import warnings\n",
    "warnings.filterwarnings('ignore')\n",
    "from plotly.subplots import make_subplots\n",
    "import plotly.graph_objects as go\n",
    "import seaborn as sns"
   ]
  },
  {
   "cell_type": "code",
   "execution_count": null,
   "id": "related-smith",
   "metadata": {},
   "outputs": [],
   "source": [
    " # Read the Mapbox API key\n",
    "load_dotenv()\n",
    "map_box_api = os.getenv(\"mapbox\")\n",
    "px.set_mapbox_access_token(map_box_api)"
   ]
  },
  {
   "cell_type": "code",
   "execution_count": null,
   "id": "central-garbage",
   "metadata": {},
   "outputs": [],
   "source": [
    " # Import the necessary CSVs to Pandas DataFrames\n",
    "nbh_locations = pd.read_csv(Path('neighborhoods_coordinates.csv'))\n",
    "nbh_locations.head()"
   ]
  },
  {
   "cell_type": "code",
   "execution_count": null,
   "id": "gothic-ratio",
   "metadata": {},
   "outputs": [],
   "source": [
    "sfo_data = pd.read_csv(Path('sfo_neighborhoods_census_data.csv', index_col='year'))\n",
    "sfo_data.head()"
   ]
  },
  {
   "cell_type": "code",
   "execution_count": null,
   "id": "attractive-cleanup",
   "metadata": {},
   "outputs": [],
   "source": [
    "housing_unit_by_year = sfo_data.groupby('year')\n",
    "\n",
    "def housing_units_per_year():\n",
    "    \"\"\"Housing Units Per Year.\"\"\"\n",
    " \n",
    "    housing_unit = housing_unit_by_year['housing_units'].first()\n",
    "    boundry = housing_unit.std()\n",
    "    return housing_unit.hvplot.bar(\n",
    "        x=\"year\",\n",
    "        y=\"housing_units\",\n",
    "        xlabel='Year',\n",
    "        ylabel='Housing Units',\n",
    "        label=f\"Housing Units in San Francisco from 2010 to 2016\",\n",
    "        ylim=(housing_unit.min()-boundry,housing_unit.max()+boundry)\n",
    "    ).opts(yformatter=\"%.0f\")"
   ]
  },
  {
   "cell_type": "code",
   "execution_count": null,
   "id": "periodic-making",
   "metadata": {},
   "outputs": [],
   "source": [
    " # Create a Title for the Dashboard\n",
    "location_column = pn.Column(' Visual analysis of the REI opportunities in San Francisco',\n",
    "                           neighborhood_map())\n",
    "\n",
    "yearly_market_analysis = pn.Row(housing_units_per_year(), average_gross_rent(), average_sales_price())\n",
    "\n",
    "neighborhood_analysis = pn.Column(average_price_by_neighborhood(), top_most_expensive_neighborhoods())\n",
    "\n",
    "parallel_plot_analysis = pn.Column(parallel_coordinates(), parallel_categories())\n",
    "\n",
    "\n",
    "dashboard_content = pn.Tabs(\n",
    "    ('Welcome', location_column),\n",
    "    ('Yearly Market Analysis', yearly_market_analysis),\n",
    "    ('Neighborhood Analysis', neighborhood_analysis),\n",
    "    ('Parallel Plot Analysis', parallel_plot_analysis)\n",
    ")\n",
    "\n",
    "SF_dashboard = pn.Column('# Real Estate Analysis of San Francisco from 2010 to 2016',\n",
    "                  dashboard_content\n",
    "                 )"
   ]
  },
  {
   "cell_type": "code",
   "execution_count": null,
   "id": "ready-triumph",
   "metadata": {},
   "outputs": [],
   "source": [
    "# Serve the# dashboard\n",
    "SF_dashboard.servable()"
   ]
  },
  {
   "cell_type": "code",
   "execution_count": null,
   "id": "killing-employment",
   "metadata": {},
   "outputs": [],
   "source": []
  },
  {
   "cell_type": "code",
   "execution_count": null,
   "id": "boolean-worthy",
   "metadata": {},
   "outputs": [],
   "source": []
  },
  {
   "cell_type": "code",
   "execution_count": null,
   "id": "controlled-darwin",
   "metadata": {},
   "outputs": [],
   "source": []
  },
  {
   "cell_type": "code",
   "execution_count": null,
   "id": "hundred-magnet",
   "metadata": {},
   "outputs": [],
   "source": []
  },
  {
   "cell_type": "code",
   "execution_count": null,
   "id": "elementary-absolute",
   "metadata": {},
   "outputs": [],
   "source": []
  },
  {
   "cell_type": "code",
   "execution_count": null,
   "id": "nonprofit-chick",
   "metadata": {},
   "outputs": [],
   "source": []
  },
  {
   "cell_type": "code",
   "execution_count": null,
   "id": "celtic-excitement",
   "metadata": {},
   "outputs": [],
   "source": []
  },
  {
   "cell_type": "code",
   "execution_count": null,
   "id": "sufficient-shaft",
   "metadata": {},
   "outputs": [],
   "source": []
  },
  {
   "cell_type": "code",
   "execution_count": null,
   "id": "established-tobacco",
   "metadata": {},
   "outputs": [],
   "source": []
  },
  {
   "cell_type": "code",
   "execution_count": null,
   "id": "approved-concept",
   "metadata": {},
   "outputs": [],
   "source": []
  },
  {
   "cell_type": "code",
   "execution_count": null,
   "id": "sorted-renaissance",
   "metadata": {},
   "outputs": [],
   "source": []
  },
  {
   "cell_type": "code",
   "execution_count": null,
   "id": "manufactured-reservoir",
   "metadata": {},
   "outputs": [],
   "source": []
  }
 ],
 "metadata": {
  "kernelspec": {
   "display_name": "Python 3",
   "language": "python",
   "name": "python3"
  },
  "language_info": {
   "codemirror_mode": {
    "name": "ipython",
    "version": 3
   },
   "file_extension": ".py",
   "mimetype": "text/x-python",
   "name": "python",
   "nbconvert_exporter": "python",
   "pygments_lexer": "ipython3",
   "version": "3.8.5"
  }
 },
 "nbformat": 4,
 "nbformat_minor": 5
}
